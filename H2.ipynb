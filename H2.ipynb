{
 "cells": [
  {
   "cell_type": "code",
   "execution_count": 8,
   "metadata": {},
   "outputs": [
    {
     "data": {
      "image/png": "[encoded data removed]",
      "text/plain": [
       "<Figure size 720x360 with 4 Axes>"
      ]
     },
     "metadata": {
      "needs_background": "light"
     },
     "output_type": "display_data"
    },
    {
     "name": "stdout",
     "output_type": "stream",
     "text": [
      "kNN accuracy: 0.72 ± 0.03\n",
      "Naive Bayes accuracy: 0.74 ± 0.04\n",
      "knn accuracy > nb accuracy?\n",
      "p-value =  0.9104476998751558\n",
      "knn accuracy < nb accuracy?\n",
      "p-value =  0.08955230012484414\n",
      "Naive Bayes is statistically superior to kNN regarding accuracy with statistical significance under a confidence threshold of 0.1 since 0.08955230012484414 < 0.1.\n"
     ]
    }
   ],
   "source": [
    "\"\"\"Using sklearn, considering a 10-fold stratified cross validation (random=0), plot the cumulative\n",
    "testing confusion matrices of 𝑘NN (uniform weights, 𝑘 = 5, Euclidean distance) and Naïve Bayes\n",
    "(Gaussian assumption). Use all remaining classifier parameters as default.\n",
    "Using scipy, test the hypothesis “𝑘NN is statistically superior to Naïve Bayes regarding\n",
    "accuracy”, asserting whether is true.\"\"\"\n",
    "\n",
    "import numpy as np\n",
    "import pandas as pd\n",
    "import matplotlib.pyplot as plt\n",
    "import seaborn as sns\n",
    "from scipy.io.arff import loadarff\n",
    "from sklearn.model_selection import StratifiedKFold\n",
    "from sklearn.neighbors import KNeighborsClassifier\n",
    "from sklearn.naive_bayes import GaussianNB\n",
    "from sklearn.metrics import confusion_matrix\n",
    "from sklearn.model_selection import cross_val_score\n",
    "from scipy import stats\n",
    "\n",
    "data = loadarff('pd_speech.arff')\n",
    "df = pd.DataFrame(data[0])\n",
    "df['class'] = df['class'].str.decode('utf-8')\n",
    "y = df['class']\n",
    "X = df.drop('class', axis=1)\n",
    "\n",
    "folds = StratifiedKFold(n_splits=10, shuffle=True, random_state=0)\n",
    "\n",
    "knn = KNeighborsClassifier(n_neighbors=5, weights='uniform', metric='euclidean')\n",
    "nb = GaussianNB()\n",
    "\n",
    "cm_knn = np.zeros((2, 2))\n",
    "cm_nb = np.zeros((2, 2))\n",
    "\n",
    "for train_k, test_k in folds.split(X, y):\n",
    "    X_train, X_test = X.iloc[train_k], X.iloc[test_k]\n",
    "    y_train, y_test = y.iloc[train_k], y.iloc[test_k]\n",
    "\n",
    "    knn.fit(X_train, y_train)\n",
    "    nb.fit(X_train, y_train)\n",
    "\n",
    "    knn_y_pred = knn.predict(X_test)\n",
    "    nb_y_pred = nb.predict(X_test)\n",
    "\n",
    "    cm_knn += confusion_matrix(y_test, knn_y_pred)\n",
    "    cm_nb += confusion_matrix(y_test, nb_y_pred)\n",
    "\n",
    "fig, ax = plt.subplots(1, 2, figsize=(10, 5))\n",
    "\n",
    "confusion_1 = pd.DataFrame(np.array(cm_knn))\n",
    "sns.heatmap(confusion_1, annot=True, fmt='g', cmap=\"Pastel1\", ax=ax[0])\n",
    "ax[0].imshow(cm_knn)\n",
    "ax[0].set_title('kNN')\n",
    "ax[0].set(xlabel='predicted', ylabel='real')\n",
    "plt.xlabel('Predicted')\n",
    "plt.ylabel('Real')\n",
    "\n",
    "confusion_2 = pd.DataFrame(np.array(cm_nb))\n",
    "sns.heatmap(confusion_2, annot=True, fmt='g', cmap=\"Pastel1\",ax=ax[1])\n",
    "ax[1].imshow(cm_nb)\n",
    "ax[1].set_title('Naive Bayes')\n",
    "ax[1].set(xlabel='predicted', ylabel='real')\n",
    "\n",
    "plt.show()\n",
    "\n",
    "pred_1 = cross_val_score(knn, X, y, cv=folds, scoring='accuracy')\n",
    "pred_2 = cross_val_score(nb, X, y, cv=folds, scoring='accuracy')\n",
    "print(\"kNN accuracy:\", round(np.mean(pred_1),2), \"±\", round(np.std(pred_1), 2))\n",
    "print(\"Naive Bayes accuracy:\", round(np.mean(pred_2),2), \"±\", round(np.std(pred_2), 2))\n",
    "res = stats.ttest_rel(pred_1, pred_2, alternative='greater')\n",
    "print(\"knn accuracy > nb accuracy?\\np-value = \", res.pvalue)\n",
    "res = stats.ttest_rel(pred_1, pred_2, alternative='less')\n",
    "print(\"knn accuracy < nb accuracy?\\np-value = \", res.pvalue)\n",
    "\n",
    "if res.pvalue < 0.1:\n",
    "    print(\"Naive Bayes is statistically superior to kNN regarding accuracy with statistical significance under a confidence threshold of 0.1 since\",res.pvalue,\"< 0.1.\")\n",
    "elif 1-res.pvalue < 0.1:\n",
    "    print(\"kNN is statistically superior to Naive Bayes regarding accuracy with statistical significance under a confidence threshold of 0.1 since\",1-res.pvalue,\"< 0.1.\")\n",
    "\n"
   ]
  }
 ],
 "metadata": {
  "kernelspec": {
   "display_name": "Python 3",
   "language": "python",
   "name": "python3"
  },
  "language_info": {
   "codemirror_mode": {
    "name": "ipython",
    "version": 3
   },
   "file_extension": ".py",
   "mimetype": "text/x-python",
   "name": "python",
   "nbconvert_exporter": "python",
   "pygments_lexer": "ipython3",
   "version": "3.9.7 (tags/v3.9.7:1016ef3, Aug 30 2021, 20:19:38) [MSC v.1929 64 bit (AMD64)]"
  },
  "orig_nbformat": 4,
  "vscode": {
   "interpreter": {
    "hash": "db8d47ea16eec0561bce4952bfe8b03d69044297c117e9be708fad182b7c1122"
   }
  }
 },
 "nbformat": 4,
 "nbformat_minor": 2
}
