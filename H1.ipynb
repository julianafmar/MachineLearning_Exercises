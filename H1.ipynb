{
 "cells": [
  {
   "cell_type": "code",
   "execution_count": 2,
   "metadata": {},
   "outputs": [
    {
     "data": {
      "image/png": "[encoded data removed]",
      "text/plain": [
       "<Figure size 432x288 with 1 Axes>"
      ]
     },
     "metadata": {
      "needs_background": "light"
     },
     "output_type": "display_data"
    }
   ],
   "source": [
    "\"\"\"Using sklearn, apply a stratified 70-30 training-testing split with a fixed seed\n",
    "(random_state=1), and assess in a single plot the training and testing accuracies of a decision tree\n",
    "with no depth limits (and remaining default behavior) for a varying number of selected features\n",
    "in {5,10,40,100,250,700}. Feature selection should be performed before decision tree learning\n",
    "considering the discriminative power of the input variables according to mutual information\n",
    "criterion (mutual_info_classif).\"\"\"\n",
    "\n",
    "import pandas as pd\n",
    "import matplotlib.pyplot as plt\n",
    "from scipy.io.arff import loadarff\n",
    "from sklearn.model_selection import train_test_split\n",
    "from sklearn.feature_selection import mutual_info_classif, SelectKBest\n",
    "from sklearn import tree, metrics\n",
    "\n",
    "data = loadarff('pd_speech.arff')\n",
    "df = pd.DataFrame(data[0])\n",
    "df['class'] = df['class'].str.decode('utf-8')\n",
    "\n",
    "num = [5, 10, 40, 100, 250, 700]\n",
    "\n",
    "df.dropna(inplace=True)\n",
    "\n",
    "ig = {}\n",
    "columns = df.columns[0:-1]\n",
    "\n",
    "for c in columns:\n",
    "    ig[c] = round(mutual_info_classif(df[c].to_numpy().reshape(-1, 1), df['class'], random_state=1)[0], 3)\n",
    "sorted_igs = sorted(ig, key=ig.get, reverse=True)\n",
    "\n",
    "selection = []\n",
    "for n in num:\n",
    "    selection += [sorted_igs[0:n]]\n",
    "\n",
    "y = df['class']\n",
    "test_accuracies = []\n",
    "train_accuracies = []\n",
    "\n",
    "for features in selection:\n",
    "    x = df[features]\n",
    "    X_train, X_test, y_train, y_test = train_test_split(x, y, train_size=0.7, random_state=1)\n",
    "    \n",
    "    predictor = tree.DecisionTreeClassifier(max_depth=None, random_state=1)\n",
    "    predictor.fit(X_train, y_train)\n",
    "    \n",
    "    y_pred = predictor.predict(X_test)\n",
    "    test_accuracies += [round(metrics.accuracy_score(y_test, y_pred),2)]\n",
    "    y_pred = predictor.predict(X_train)\n",
    "    train_accuracies += [round(metrics.accuracy_score(y_train, y_pred),2)]\n",
    "\n",
    "plt.title(\"training and testing accuracies\")\n",
    "plt.scatter(num, train_accuracies, label='training accuracies')\n",
    "plt.scatter(num, test_accuracies, label='testing accuracies')\n",
    "plt.legend(loc='center left', bbox_to_anchor=(1, 0.5))\n",
    "plt.show()"
   ]
  }
 ],
 "metadata": {
  "kernelspec": {
   "display_name": "Python 3.9.7 64-bit",
   "language": "python",
   "name": "python3"
  },
  "language_info": {
   "codemirror_mode": {
    "name": "ipython",
    "version": 3
   },
   "file_extension": ".py",
   "mimetype": "text/x-python",
   "name": "python",
   "nbconvert_exporter": "python",
   "pygments_lexer": "ipython3",
   "version": "3.9.7 (tags/v3.9.7:1016ef3, Aug 30 2021, 20:19:38) [MSC v.1929 64 bit (AMD64)]"
  },
  "orig_nbformat": 4,
  "vscode": {
   "interpreter": {
    "hash": "db8d47ea16eec0561bce4952bfe8b03d69044297c117e9be708fad182b7c1122"
   }
  }
 },
 "nbformat": 4,
 "nbformat_minor": 2
}
